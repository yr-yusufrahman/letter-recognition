{
 "cells": [
  {
   "cell_type": "markdown",
   "id": "6d5c63df-e245-4be0-a3c9-cead7cd89021",
   "metadata": {},
   "source": [
    "# Libraries"
   ]
  },
  {
   "cell_type": "code",
   "execution_count": 22,
   "id": "4261e780-1e74-4447-ba8f-e40b3fcbfd82",
   "metadata": {},
   "outputs": [],
   "source": [
    "import os\n",
    "import cv2\n",
    "import numpy as np\n",
    "import string\n",
    "import matplotlib.pyplot as plt"
   ]
  },
  {
   "cell_type": "markdown",
   "id": "334adca1-8c2d-4f57-b373-141aa59fb680",
   "metadata": {},
   "source": [
    "# Handling the dataset\n",
    "\n",
    "- The main focus was on building an acceptable letter recognition model. If this was successful, the model can be easily adapted for digits and special characters.\n",
    "- All image files were stored in a folder and were named after their ASCII value"
   ]
  },
  {
   "cell_type": "markdown",
   "id": "74b3403e-43c5-4c8c-a95d-42beb265916b",
   "metadata": {},
   "source": [
    "## Helper functions\n",
    "\n",
    "- letterIndex: Returns the alphabetical location of a given uppercase letter\n",
    "- load: Reads all image files from a given folder, flattens them into numpy arrays and merges them together into a large dataset, keeping the image data and labels separate"
   ]
  },
  {
   "cell_type": "code",
   "execution_count": 4,
   "id": "51d994e3-d69b-4072-a66a-054220db8d06",
   "metadata": {},
   "outputs": [],
   "source": [
    "def letterIndex(i):\n",
    "    return int(i) - 65\n",
    "\n",
    "def load(folder):\n",
    "    files = os.listdir(folder)\n",
    "    n = len(files)\n",
    "    \n",
    "    labels = np.array([letterIndex(i[0:2]) for i in files]).reshape(n, 1)\n",
    "    flattened = []\n",
    "    \n",
    "    for i in range(n):\n",
    "        path = os.path.join(folder, files[i])\n",
    "        image = cv2.imread(path, cv2.IMREAD_GRAYSCALE)\n",
    "        flat = image.flatten()\n",
    "        flattened.append(flat)\n",
    "\n",
    "    # Combine images and labels into 1 dataset\n",
    "    images = np.vstack(flattened)\n",
    "    dataset = np.hstack((labels, images))\n",
    "\n",
    "    # Randomize the data\n",
    "    np.random.shuffle(dataset)\n",
    "    images = dataset[:, 1:]\n",
    "    labels = dataset[:, 0]\n",
    "    \n",
    "    return images, labels "
   ]
  },
  {
   "cell_type": "code",
   "execution_count": 5,
   "id": "e96a785c-2dbd-4426-9641-08f257e8c438",
   "metadata": {},
   "outputs": [
    {
     "name": "stdout",
     "output_type": "stream",
     "text": [
      "(16257,)\n"
     ]
    }
   ],
   "source": [
    "pixels, labels = load('Letters uppercase')\n",
    "print(labels.shape)"
   ]
  },
  {
   "cell_type": "markdown",
   "id": "3623ac03-ca1e-408f-ba25-b6aa6d9e636d",
   "metadata": {},
   "source": [
    "## Preview images\n",
    "\n",
    "- Examine some images to ensure they have been loaded correctly"
   ]
  },
  {
   "cell_type": "code",
   "execution_count": 7,
   "id": "cbfa5c1a-8b8e-409d-b9e6-408313415b5e",
   "metadata": {},
   "outputs": [],
   "source": [
    "dimension = (64, 64)"
   ]
  },
  {
   "cell_type": "code",
   "execution_count": 8,
   "id": "f856d2df-cd06-4ac2-bd1a-dd999ad9c0ac",
   "metadata": {
    "scrolled": true
   },
   "outputs": [
    {
     "data": {
      "image/png": "[encoded data removed]",
      "text/plain": [
       "<Figure size 640x480 with 1 Axes>"
      ]
     },
     "metadata": {},
     "output_type": "display_data"
    },
    {
     "data": {
      "image/png": "[encoded data removed]",
      "text/plain": [
       "<Figure size 640x480 with 1 Axes>"
      ]
     },
     "metadata": {},
     "output_type": "display_data"
    },
    {
     "data": {
      "image/png": "[encoded data removed]",
      "text/plain": [
       "<Figure size 640x480 with 1 Axes>"
      ]
     },
     "metadata": {},
     "output_type": "display_data"
    }
   ],
   "source": [
    "images = pixels.reshape((-1, *dimension))\n",
    "\n",
    "alphabet = string.ascii_uppercase\n",
    "\n",
    "for i in range(3):\n",
    "    plt.imshow(images[i], cmap='gray')\n",
    "    plt.title(f\"Label: {alphabet[labels[i]]}\")\n",
    "    plt.axis('off')\n",
    "    plt.show()"
   ]
  },
  {
   "cell_type": "markdown",
   "id": "489a899f-e22e-4bf1-ba42-bf50ec4ce814",
   "metadata": {},
   "source": [
    "## Split data for training and testing\n",
    "\n",
    "- The labels form a 1D numpy array and so their length represents the number of exmples in the entire dataset\n",
    "- The split was 80% training and 20% testing"
   ]
  },
  {
   "cell_type": "code",
   "execution_count": 9,
   "id": "69133816-e9a6-4c6a-b19b-4ed22dd5f807",
   "metadata": {},
   "outputs": [
    {
     "name": "stdout",
     "output_type": "stream",
     "text": [
      "X Train: (13005, 4096)\n",
      "y Train: (13005,)\n",
      "\n",
      "X Test: (3252, 4096)\n",
      "y Test: (3252,)\n"
     ]
    }
   ],
   "source": [
    "split = labels.shape[0]\n",
    "start = int(split * 0.8)\n",
    "\n",
    "X_train = pixels[:start]\n",
    "y_train = labels[:start]\n",
    "\n",
    "X_test = pixels[start:split]\n",
    "y_test = labels[start:split]\n",
    "\n",
    "print(f\"X Train: {X_train.shape}\")\n",
    "print(f\"y Train: {y_train.shape}\")\n",
    "print()\n",
    "print(f\"X Test: {X_test.shape}\")\n",
    "print(f\"y Test: {y_test.shape}\")"
   ]
  },
  {
   "cell_type": "markdown",
   "id": "e577a467-9ebe-4a1f-a41b-3fab98a25061",
   "metadata": {},
   "source": [
    "<br>\n",
    "\n",
    "# Build the neural network\n",
    "\n",
    "- Using objects helped manipulate values in a tidy manner\n",
    "- Intermediate values are the values produced by multiplying the input by the weights and then adding the bias. W(X) + b\n",
    "- Activation values are the values produced by applying the ReLU or Softmax function on the intermediate values"
   ]
  },
  {
   "cell_type": "code",
   "execution_count": 10,
   "id": "e6faef2b-24fa-4af8-8325-010d1012d2c6",
   "metadata": {},
   "outputs": [],
   "source": [
    "class Layer:\n",
    "    def __init__(self, neurons, features):\n",
    "        self.weights = np.random.rand(neurons, features) - 0.5\n",
    "        self.biases = np.random.rand(neurons, 1) - 0.5\n",
    "        self.intermediate = 0\n",
    "        self.activation = 0"
   ]
  },
  {
   "cell_type": "markdown",
   "id": "276a21b7-c047-4f49-b09b-bab1c2edbddb",
   "metadata": {},
   "source": [
    "## Convolution layer\n",
    "\n",
    "- Although the convolution layer is not integrated with the main part of the network, the network still produced good results. This layer does not change with gradient descent\n",
    "- Without this layer, the model struggled to acheive an accuracy of above 80% when given more than 2000 training examples.\n",
    "- The convolution layer ensures the patterns within each exmaples are being examined rather than checking if individual pixels match other examples \n"
   ]
  },
  {
   "cell_type": "markdown",
   "id": "b27ec97a-1969-4119-9f6c-6380e767c8ef",
   "metadata": {},
   "source": [
    "### Filtering\n",
    "\n",
    "- Takes a matrix of flattened images and a given 3x3 filter to carry out the filtering process"
   ]
  },
  {
   "cell_type": "code",
   "execution_count": 11,
   "id": "753d9310-a4e2-43ff-8152-9ec9daca5fae",
   "metadata": {},
   "outputs": [],
   "source": [
    "def filtering(input, filter):\n",
    "    n = input.shape[0]\n",
    "    features = input.shape[1]\n",
    "    image_size = int(features**0.5)\n",
    "    filter_size = filter.shape[1]\n",
    "\n",
    "    mini = []\n",
    "    \n",
    "    # Identifies which indices need to be accessed - 3x3 grid\n",
    "    location = np.arange(image_size**2).reshape((image_size, image_size))\n",
    "    for row in range(1, image_size-1):\n",
    "        for column in range(1, image_size-1):\n",
    "            filter_grid = location[row-1:row+2, column-1:column+2].flatten()\n",
    "            grid = input[:, filter_grid]\n",
    "            mean = grid.dot(filter.T) / filter_size\n",
    "            mini.append(mean)\n",
    "\n",
    "    bitmap = np.hstack(mini)      \n",
    "    return bitmap"
   ]
  },
  {
   "cell_type": "markdown",
   "id": "53888532-6c18-41f9-bb0b-31dc90684c4b",
   "metadata": {},
   "source": [
    "### Max pooling\n",
    "\n",
    "- Slides a 2x2 grid across the filtered image and takes the largest pixel value within the grid"
   ]
  },
  {
   "cell_type": "code",
   "execution_count": 12,
   "id": "995873e6-a1ec-4432-ab92-151f4661fa69",
   "metadata": {},
   "outputs": [],
   "source": [
    "def relu(Z):\n",
    "    return np.maximum(0, Z)\n",
    "\n",
    "\n",
    "def pooling(input):\n",
    "    # 2x2 kernel\n",
    "    pool_kernel = 2\n",
    "    features = input.shape[1]\n",
    "    pool_size = int(features**0.5)\n",
    "\n",
    "    mini = []\n",
    "    \n",
    "    # Identifies which indices need to be accessed - 2x2 grid\n",
    "    location = np.arange(features).reshape((pool_size, pool_size))\n",
    "    for row in range(0, pool_size, pool_kernel):\n",
    "        for column in range(0, pool_size, pool_kernel):\n",
    "            pool_grid = location[row:row+pool_kernel, column:column+pool_kernel].flatten()\n",
    "\n",
    "            # Get the maximum value from each row in the matrix\n",
    "            maximum = input[:, pool_grid].max(1).reshape((-1, 1))\n",
    "            mini.append(maximum.round())\n",
    "    \n",
    "    result = np.hstack(mini) \n",
    "    return result\n",
    "    "
   ]
  },
  {
   "cell_type": "markdown",
   "id": "e62c3b9b-9e88-456b-b20d-c422350b6be5",
   "metadata": {},
   "source": [
    "### Combining the processes\n",
    "\n",
    "- process: Takes a matrix of flattened images and a filter to perform both filtering and max pooling\n",
    "- convolution: Applies the entire convolution process with 3 different filters. These filters try to detect vertical, horizontal and diagonal edges in each image\n",
    "- The inputs for the training and testing sets are transposed so that the values used throughout the network are easier to handle as they maintain the shape of each layer. The inputs are also divided by 255 as this is the largest possible value for a pixel and normalizes the inputs so that each value could be between 0 and 1 which also makes values easier to handle"
   ]
  },
  {
   "cell_type": "code",
   "execution_count": 13,
   "id": "ef778e1f-a5a1-4ad0-ad3d-79384abc8bae",
   "metadata": {},
   "outputs": [],
   "source": [
    "def process(images, filter):\n",
    "    bitmap = filtering(images, filter)\n",
    "    adjusted = relu(bitmap)\n",
    "    result = pooling(adjusted)\n",
    "    return result\n",
    "\n",
    "def convolution(images):\n",
    "    all = []\n",
    "    # Vertical filter\n",
    "    vertical = np.array([[1, 0, -1, 1, 0, -1, 1, 0, -1]])  \n",
    "    result = process(images, vertical)\n",
    "    all.append(result)\n",
    "    \n",
    "    # Horizontal filter\n",
    "    horizontal = np.array([[1, 1, 1, 0, 0, 0, -1, -1, -1]]) \n",
    "    result1 = process(images, horizontal)\n",
    "    all.append(result1)\n",
    "\n",
    "    # Diagonal filter\n",
    "    diagonal = np.array([[1, 1, 0, 1, 0, -1, 0, -1, -1]])  \n",
    "    result2 = process(images, diagonal)\n",
    "    all.append(result2)\n",
    "    \n",
    "    final = np.hstack(all)\n",
    "    return final"
   ]
  },
  {
   "cell_type": "code",
   "execution_count": 14,
   "id": "535bbad8-23e0-4c24-911d-df67d3f50f71",
   "metadata": {},
   "outputs": [
    {
     "name": "stdout",
     "output_type": "stream",
     "text": [
      "(2883, 13005)\n",
      "(2883, 3252)\n"
     ]
    }
   ],
   "source": [
    "C_train = convolution(X_train).T / 255.0\n",
    "C_test = convolution(X_test).T / 255.0\n",
    "\n",
    "print(C_train.shape)\n",
    "print(C_test.shape)"
   ]
  },
  {
   "cell_type": "markdown",
   "id": "92aaccaf-24b6-4c71-b6ef-83a564fc3133",
   "metadata": {},
   "source": [
    "## Forward\n",
    "\n",
    "- ReLU has already been defined\n",
    "- softmax: Takes an input where the rows represent a value of the example belonging to a certain class and the columns represent each example. Since there are 26 possible classes (26 letters of the alphabet), the input data will have 26 rows. The softmax function then converts the values into probabilities of each example belonging to each class.\n",
    "- forward: Takes in a matrix of flattened images and then each layer of the network. The intermediate values (Z-values) and the activation values (A-values) are computed and returned."
   ]
  },
  {
   "cell_type": "code",
   "execution_count": 15,
   "id": "d59f7dfe-ac07-42fc-9486-edf7d06471fe",
   "metadata": {},
   "outputs": [],
   "source": [
    "def softmax(Z):\n",
    "    A = np.exp(Z) / sum(np.exp(Z))\n",
    "    return A\n",
    "\n",
    "\n",
    "def forward(X, L1, L2, output):\n",
    "    W1 = L1.weights\n",
    "    b1 = L1.biases\n",
    "    W2 = L2.weights\n",
    "    b2 = L2.biases\n",
    "    W3 = output.weights\n",
    "    b3 = output.biases\n",
    "\n",
    "    Z1 = W1.dot(X) + b1\n",
    "    A1 = relu(Z1)\n",
    "    Z2 = W2.dot(A1) + b2\n",
    "    A2 = relu(Z2)\n",
    "    Z3 = W3.dot(A2) + b3\n",
    "    A3 = softmax(Z3)\n",
    "    \n",
    "    return Z1, A1, Z2, A2, Z3, A3"
   ]
  },
  {
   "cell_type": "markdown",
   "id": "f580aceb-cb7d-443b-aaf9-84e9f41fb70d",
   "metadata": {},
   "source": [
    "## Gradient descent\n",
    "\n",
    "- This algorithm ensures the model learns how to improve itself to achieve higher accuracy\n",
    "- backward: Carries out backward propagation. All values from all the layers of the neural network are accessed. The chain rule with partial differentiation is used to determine the change of the output when the weights and biases change\n",
    "- update: Adjusts the parameters of all layers by taking the derivatives of parameters and taking a given learning rate value denoted by alpha. The larger the alpha value, the larger \"steps\" will be taken when adjusting the parameters to minimize the cost of the network "
   ]
  },
  {
   "cell_type": "code",
   "execution_count": 16,
   "id": "72e568ad-78ac-4489-bd67-af5cf6afdfd8",
   "metadata": {},
   "outputs": [],
   "source": [
    "def backward(X, y, L1, L2, output):\n",
    "    W1 = L1.weights\n",
    "    b1 = L1.biases\n",
    "    Z1 = L1.intermediate\n",
    "    A1 = L1.activation\n",
    "\n",
    "    W2 = L2.weights\n",
    "    b2 = L2.biases\n",
    "    Z2 = L2.intermediate\n",
    "    A2 = L2.activation    \n",
    "\n",
    "    W3 = output.weights\n",
    "    b3 = output.biases\n",
    "    Z3 = output.intermediate\n",
    "    A3 = output.activation\n",
    "\n",
    "    n = X.shape[1]\n",
    "    dj_Z3 = A3.copy()\n",
    "    dj_Z3[y, range(n)] -= 1 # Each column is an example's probabilities\n",
    "\n",
    "    # Output layer\n",
    "    dZ3_W3 = A2.T\n",
    "    dZ3_b3 = 1\n",
    "    dW3 = dj_Z3.dot(dZ3_W3) / n\n",
    "    db3 = np.mean(dj_Z3 * dZ3_b3)\n",
    "\n",
    "    \n",
    "    # 2nd layer\n",
    "    dZ3_A2 = W3.T \n",
    "    dA2_Z2 = Z2 > 0 # Derivative of Relu\n",
    "    dj_Z2 = dZ3_A2.dot(dj_Z3) * dA2_Z2\n",
    "    \n",
    "    dZ2_W2 = A1.T\n",
    "    dZ2_b2 = 1\n",
    "    dW2 = (dj_Z2.dot(dZ2_W2)) / n\n",
    "    db2 = np.mean(dj_Z2 * dZ2_b2)\n",
    "\n",
    "    \n",
    "    # 1st layer\n",
    "    dZ2_A1 = W2.T \n",
    "    dA1_Z1 = Z1 > 0 # Derivative of Relu\n",
    "    dj_Z1 = dZ2_A1.dot(dj_Z2) * dA1_Z1\n",
    "    \n",
    "    dZ1_W1 = X.T\n",
    "    dZ1_b1 = 1\n",
    "    dW1 = (dj_Z1.dot(dZ1_W1)) / n\n",
    "    db1 = np.mean(dj_Z1 * dZ1_b1)\n",
    "    \n",
    "    return dW1, db1, dW2, db2, dW3, db3\n",
    "\n",
    "\n",
    "def update(L1, L2, output, dW1, db1, dW2, db2, dW3, db3, alpha):\n",
    "    W1 = L1.weights.copy() - (alpha * dW1)\n",
    "    b1 = L1.biases.copy() - (alpha * db1)\n",
    "    W2 = L2.weights.copy() - (alpha * dW2)\n",
    "    b2 = L2.biases.copy() - (alpha * db2)    \n",
    "    W3 = output.weights.copy() - (alpha * dW3)\n",
    "    b3 = output.biases.copy() - (alpha * db3)\n",
    "\n",
    "    return W1, b1, W2, b2, W3, b3"
   ]
  },
  {
   "cell_type": "markdown",
   "id": "0a42cca8-3205-4883-ba60-68ffc982c34d",
   "metadata": {},
   "source": [
    "## Performance\n",
    "\n",
    "- get_predictions: Returns the highest probability for each example in the given matrix\n",
    "- get_loss: Returns the loss of each example by comparing its highest probability to its actual class. The sum of loss across all examples results in the cost function\n",
    "- get_accuracy: Returns the portion of correct predictions out of all predictions made\n",
    "- performance: Prints the accuracy of predictions for every 10 iterations"
   ]
  },
  {
   "cell_type": "code",
   "execution_count": 17,
   "id": "af19f586-8f20-4b76-ab32-1f93c4b9a7f1",
   "metadata": {},
   "outputs": [],
   "source": [
    "def get_predictions(A):\n",
    "    return np.argmax(A, 0)\n",
    "\n",
    "def get_loss(predictions, y):\n",
    "    n = predictions.shape[1]\n",
    "    labelled = predictions[y, range(n)]\n",
    "    cost = np.sum(-np.log(labelled))\n",
    "    return cost\n",
    "\n",
    "def get_accuracy(predictions, y):\n",
    "    accuracy = np.sum(predictions == y) / y.size\n",
    "    return accuracy\n",
    "\n",
    "def performance(y_hat, y, iterations, cost, accuracy_array, i, insert):\n",
    "    if i % 10 == 0:\n",
    "        predictions = get_predictions(y_hat)\n",
    "        accuracy = get_accuracy(predictions, y)\n",
    "        loss = get_loss(y_hat, y)\n",
    "    \n",
    "        if insert < (iterations / 10):\n",
    "            cost[insert] = loss\n",
    "            accuracy_array[insert] = accuracy * 100\n",
    "            insert += 1\n",
    "        \n",
    "        \n",
    "        print(f\"Iteration: {i}, Loss: {round(loss, 5)}, Accuracy: {round(accuracy * 100, 5)}%\")\n",
    "            \n",
    "    return insert"
   ]
  },
  {
   "cell_type": "markdown",
   "id": "decaeabc-4a46-42df-93ec-cae7122b6a6d",
   "metadata": {},
   "source": [
    "## Main network\n",
    "\n",
    "- Combines all processes of the network\n",
    "- Implementing mini-batches significantly improved training accuracy as the input surpassed 4000 examples"
   ]
  },
  {
   "cell_type": "code",
   "execution_count": 18,
   "id": "7ed2df6f-63f8-48b8-b4fc-86d6a2b835b7",
   "metadata": {},
   "outputs": [],
   "source": [
    "def network(X, y, batch, alpha, iterations):\n",
    "    cost = np.zeros([iterations // 10])\n",
    "    accuracy_array = cost.copy()\n",
    "    insert = 0\n",
    "\n",
    "    n = y.shape[0]\n",
    "    features = X.shape[0]\n",
    "    batch_limit = n//batch\n",
    "    \n",
    "    L1 = Layer(48, features)\n",
    "    L2 = Layer(34, 48)\n",
    "    out = Layer(26, 34)\n",
    "    \n",
    "    for i in range(1, iterations+1):\n",
    "        for j in range(batch_limit):\n",
    "            current = (j) * batch\n",
    "            upper = (j+1) * batch\n",
    "            \n",
    "            if j == batch_limit-1:\n",
    "                upper = n\n",
    "            mini_X = X[:, current:upper]\n",
    "            mini_y = y[current:upper]\n",
    "            \n",
    "            Z1, A1, Z2, A2, Z3, A3 = forward(mini_X, L1, L2, out)\n",
    "            L1.intermediate = Z1\n",
    "            L1.activation = A1\n",
    "            L2.intermediate = Z2\n",
    "            L2.activation = A2\n",
    "            out.intermediate = Z3\n",
    "            out.activation = A3\n",
    "            \n",
    "            dW1, db1, dW2, db2, dW3, db3 = backward(mini_X, mini_y, L1, L2, out)\n",
    "            W1, b1, W2, b2, W3, b3 = update(L1, L2, out, dW1, db1, dW2, db2, dW3, db3, alpha)\n",
    "    \n",
    "            L1.weights = W1\n",
    "            L1.biases = b1\n",
    "            L2.weights = W2\n",
    "            L2.biases = b2\n",
    "            out.weights = W3\n",
    "            out.biases = b3\n",
    "\n",
    "            if j == batch_limit-1:\n",
    "                insert = performance(A3, mini_y, iterations, cost, accuracy_array, i, insert)\n",
    "\n",
    "    return L1, L2, out, cost, accuracy_array"
   ]
  },
  {
   "cell_type": "code",
   "execution_count": 19,
   "id": "2e5a4f54-d447-4fb5-9b55-0e0b679ef870",
   "metadata": {},
   "outputs": [
    {
     "name": "stdout",
     "output_type": "stream",
     "text": [
      "Iteration: 10, Loss: 13.51661, Accuracy: 91.11111%\n",
      "Iteration: 20, Loss: 7.20183, Accuracy: 97.77778%\n",
      "Iteration: 30, Loss: 1.41864, Accuracy: 100.0%\n",
      "Iteration: 40, Loss: 0.60815, Accuracy: 100.0%\n",
      "Iteration: 50, Loss: 0.34053, Accuracy: 100.0%\n"
     ]
    }
   ],
   "source": [
    "batch_size = 24\n",
    "alpha = 0.085\n",
    "iterations = 50\n",
    "\n",
    "L1, L2, out, cost, accuracy = network(C_train, y_train, batch_size, alpha, iterations)"
   ]
  },
  {
   "cell_type": "markdown",
   "id": "ee66af5a-379e-4060-94ae-9d9741a8d7c1",
   "metadata": {},
   "source": [
    "# Testing\n",
    "\n",
    "- The best performing model with the same neurons, batch size, learning rate and number of epochs was 100% on training and 85% on testing"
   ]
  },
  {
   "cell_type": "code",
   "execution_count": 20,
   "id": "b69f8b14-2cd8-471c-af0e-1da8dfa9c79e",
   "metadata": {},
   "outputs": [],
   "source": [
    "def feed(X, L1, L2, output):\n",
    "    W1 = L1.weights\n",
    "    b1 = L1.biases\n",
    "    W2 = L2.weights\n",
    "    b2 = L2.biases\n",
    "    W3 = output.weights\n",
    "    b3 = output.biases\n",
    "\n",
    "    Z1 = W1.dot(X) + b1\n",
    "    A1 = relu(Z1)\n",
    "    Z2 = W2.dot(A1) + b2\n",
    "    A2 = relu(Z2)\n",
    "    Z3 = W3.dot(A2) + b3\n",
    "    A3 = softmax(Z3)\n",
    "    \n",
    "    return A3"
   ]
  },
  {
   "cell_type": "code",
   "execution_count": 21,
   "id": "fbb1f616-56e0-45b1-b8ed-8759b06c557a",
   "metadata": {},
   "outputs": [
    {
     "name": "stdout",
     "output_type": "stream",
     "text": [
      "Accuracy: 84.34809%\n"
     ]
    }
   ],
   "source": [
    "y_hat_test = feed(C_test, L1, L2, out)\n",
    "test_predictions = np.argmax(y_hat_test, 0)\n",
    "\n",
    "test_accuracy = get_accuracy(test_predictions, y_test)\n",
    "print(f\"Accuracy: {round(test_accuracy * 100, 5)}%\")"
   ]
  },
  {
   "cell_type": "markdown",
   "id": "4fd95dea-5620-4e20-928a-c141b34f6fe9",
   "metadata": {},
   "source": [
    "## Visualize training"
   ]
  },
  {
   "cell_type": "code",
   "execution_count": 24,
   "id": "acf33d95-fc09-405c-a099-46b1d51d6a41",
   "metadata": {},
   "outputs": [
    {
     "data": {
      "image/png": "[encoded data removed]",
      "text/plain": [
       "<Figure size 1500x600 with 1 Axes>"
      ]
     },
     "metadata": {},
     "output_type": "display_data"
    }
   ],
   "source": [
    "epoch = np.arange(0, iterations, 10)\n",
    "\n",
    "plt.figure(figsize=(15, 6)) \n",
    "plt.plot(epoch, cost, alpha=0.5, color='green')\n",
    "plt.scatter(epoch, cost, alpha=0.5, color='green', label='Loss')\n",
    "\n",
    "plt.xlabel('Iterations')\n",
    "plt.ylabel('Loss')\n",
    "plt.title('Reduction in loss')\n",
    "plt.legend()  \n",
    "\n",
    "plt.show()"
   ]
  },
  {
   "cell_type": "markdown",
   "id": "4db33d90-d03b-42e6-8466-0a4c72c03b3d",
   "metadata": {},
   "source": [
    "#### The model was initialized repeatedly until the best results were achieved. The parameters of the best model is saved as a numpy matrix using the following code"
   ]
  },
  {
   "cell_type": "code",
   "execution_count": null,
   "id": "bb4c755a-875f-4e3a-9163-68466922a3a2",
   "metadata": {},
   "outputs": [],
   "source": [
    "np.savez()"
   ]
  }
 ],
 "metadata": {
  "kernelspec": {
   "display_name": "Python 3 (ipykernel)",
   "language": "python",
   "name": "python3"
  },
  "language_info": {
   "codemirror_mode": {
    "name": "ipython",
    "version": 3
   },
   "file_extension": ".py",
   "mimetype": "text/x-python",
   "name": "python",
   "nbconvert_exporter": "python",
   "pygments_lexer": "ipython3",
   "version": "3.11.1"
  }
 },
 "nbformat": 4,
 "nbformat_minor": 5
}
